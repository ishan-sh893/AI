{
  "nbformat": 4,
  "nbformat_minor": 0,
  "metadata": {
    "colab": {
      "provenance": []
    },
    "kernelspec": {
      "name": "python3",
      "display_name": "Python 3"
    },
    "language_info": {
      "name": "python"
    }
  },
  "cells": [
    {
      "cell_type": "markdown",
      "source": [
        "1. Data Exploration and Understanding:"
      ],
      "metadata": {
        "id": "_qAwPp6rCla2"
      }
    },
    {
      "cell_type": "code",
      "execution_count": null,
      "metadata": {
        "id": "Wycg0mNo3KW7"
      },
      "outputs": [],
      "source": [
        "import pandas as pd\n",
        "\n",
        "# Load the dataset\n",
        "file_path = 'your_dataset_path.csv'  # Replace with the actual path to your dataset\n",
        "data = pd.read_csv(file_path)\n",
        "\n",
        "# Display the first 10 rows\n",
        "print(\"First 10 rows of the dataset:\")\n",
        "print(data.head(10))\n",
        "\n",
        "# Dataset Overview\n",
        "# 1. Number of rows and columns\n",
        "rows, columns = data.shape\n",
        "print(f\"\\nNumber of rows: {rows}, Number of columns: {columns}\")\n",
        "\n",
        "# 2. List of columns and their data types\n",
        "print(\"\\nColumns and data types:\")\n",
        "print(data.dtypes)\n",
        "\n",
        "# Basic Statistics\n",
        "# 1. Calculate mean, median, and standard deviation for the 'score' column\n",
        "mean_score = data['score'].mean()\n",
        "median_score = data['score'].median()\n",
        "std_dev_score = data['score'].std()\n",
        "print(f\"\\nMean score: {mean_score}, Median score: {median_score}, Standard deviation: {std_dev_score}\")\n",
        "\n",
        "# 2. Identify countries with the highest and lowest happiness scores\n",
        "highest_score_country = data.loc[data['score'].idxmax(), ['Country name', 'score']]\n",
        "lowest_score_country = data.loc[data['score'].idxmin(), ['Country name', 'score']]\n",
        "print(f\"\\nCountry with the highest score: {highest_score_country['Country name']} ({highest_score_country['score']})\")\n",
        "print(f\"Country with the lowest score: {lowest_score_country['Country name']} ({lowest_score_country['score']})\")\n",
        "\n",
        "# Missing Values\n",
        "# 1. Check for missing values\n",
        "missing_values = data.isnull().sum()\n",
        "print(\"\\nMissing values in each column:\")\n",
        "print(missing_values)\n",
        "\n",
        "# Filtering and Sorting\n",
        "# 1. Filter countries with score > 7.5\n",
        "filtered_data = data[data['score'] > 7.5]\n",
        "\n",
        "# 2. Sort by GDP per Capita in descending order and display top 10 rows\n",
        "sorted_data = filtered_data.sort_values(by='Log GDP per capita', ascending=False).head(10)\n",
        "print(\"\\nTop 10 countries with score > 7.5 sorted by GDP per Capita:\")\n",
        "print(sorted_data)\n",
        "\n",
        "# Adding New Columns\n",
        "# 1. Create 'Happiness Category' column\n",
        "conditions = [\n",
        "    (data['score'] < 4),\n",
        "    (data['score'] >= 4) & (data['score'] <= 6),\n",
        "    (data['score'] > 6)\n",
        "]\n",
        "categories = ['Low', 'Medium', 'High']\n",
        "data['Happiness Category'] = pd.cut(data['score'], bins=[-float('inf'), 4, 6, float('inf')], labels=categories, right=False)\n",
        "print(\"\\nUpdated dataset with 'Happiness Category':\")\n",
        "print(data.head())\n",
        "\n",
        "# Data Visualizations\n",
        "import matplotlib.pyplot as plt\n",
        "\n",
        "# Bar Plot: Top 10 happiest countries\n",
        "top_10_happiest = data.sort_values(by='score', ascending=False).head(10)\n",
        "plt.figure(figsize=(10, 6))\n",
        "plt.bar(top_10_happiest['Country name'], top_10_happiest['score'], color='skyblue')\n",
        "plt.title(\"Top 10 Happiest Countries by Score\")\n",
        "plt.xticks(rotation=45, ha='right')\n",
        "plt.xlabel(\"Country\")\n",
        "plt.ylabel(\"Happiness Score\")\n",
        "plt.show()\n",
        "\n",
        "# Line Plot: Top 10 unhappiest countries\n",
        "top_10_unhappiest = data.sort_values(by='score').head(10)\n",
        "plt.figure(figsize=(10, 6))\n",
        "plt.plot(top_10_unhappiest['Country name'], top_10_unhappiest['score'], marker='o', color='red')\n",
        "plt.title(\"Top 10 Unhappiest Countries by Score\")\n",
        "plt.xticks(rotation=45, ha='right')\n",
        "plt.xlabel(\"Country\")\n",
        "plt.ylabel(\"Happiness Score\")\n",
        "plt.show()\n",
        "\n",
        "# Histogram: Distribution of Scores\n",
        "plt.figure(figsize=(8, 5))\n",
        "plt.hist(data['score'], bins=20, color='purple', alpha=0.7)\n",
        "plt.title(\"Distribution of Happiness Scores\")\n",
        "plt.xlabel(\"Score\")\n",
        "plt.ylabel(\"Frequency\")\n",
        "plt.show()\n",
        "\n",
        "# Scatter Plot: GDP per Capita vs. Score\n",
        "plt.figure(figsize=(8, 5))\n",
        "plt.scatter(data['Log GDP per capita'], data['score'], color='green', alpha=0.5)\n",
        "plt.title(\"GDP per Capita vs. Happiness Score\")\n",
        "plt.xlabel(\"Log GDP per Capita\")\n",
        "plt.ylabel(\"Happiness Score\")\n",
        "plt.show()\n"
      ]
    },
    {
      "cell_type": "markdown",
      "source": [
        "Task 1: Setup Task - Preparing the South-Asia Dataset"
      ],
      "metadata": {
        "id": "Et7cYYS-ABr4"
      }
    },
    {
      "cell_type": "code",
      "source": [
        "import pandas as pd\n",
        "\n",
        "# Step 1: Define South Asian countries\n",
        "south_asian_countries = [\n",
        "    \"Afghanistan\", \"Bangladesh\", \"Bhutan\", \"India\",\n",
        "    \"Maldives\", \"Nepal\", \"Pakistan\", \"Sri Lanka\"\n",
        "]\n",
        "\n",
        "# Step 2: Filter the dataset for South Asian countries\n",
        "south_asia_df = data[data['Country name'].isin(south_asian_countries)]\n",
        "\n",
        "# Step 3: Save the filtered dataframe as a separate CSV file\n",
        "south_asia_df.to_csv('South_Asia_Dataset.csv', index=False)\n",
        "print(\"South Asia dataset saved as 'South_Asia_Dataset.csv'\")\n"
      ],
      "metadata": {
        "id": "t2YU0GXQ-eAM"
      },
      "execution_count": null,
      "outputs": []
    },
    {
      "cell_type": "markdown",
      "source": [
        "Task 2: Composite Score Ranking\n"
      ],
      "metadata": {
        "id": "ydRWH7qUAGHT"
      }
    },
    {
      "cell_type": "code",
      "source": [
        "# Step 1: Create the Composite Score column\n",
        "south_asia_df['Composite Score'] = (\n",
        "    0.40 * south_asia_df['Log GDP per capita'] +\n",
        "    0.30 * south_asia_df['Social support'] +\n",
        "    0.30 * south_asia_df['Healthy life expectancy']\n",
        ")\n",
        "\n",
        "# Step 2: Rank South Asian countries by Composite Score\n",
        "south_asia_df = south_asia_df.sort_values(by='Composite Score', ascending=False)\n",
        "\n",
        "# Step 3: Visualize the top 5 countries by Composite Score\n",
        "import matplotlib.pyplot as plt\n",
        "\n",
        "top_5_composite = south_asia_df.head(5)\n",
        "plt.figure(figsize=(8, 6))\n",
        "plt.barh(top_5_composite['Country name'], top_5_composite['Composite Score'], color='skyblue')\n",
        "plt.title(\"Top 5 South Asian Countries by Composite Score\")\n",
        "plt.xlabel(\"Composite Score\")\n",
        "plt.ylabel(\"Country\")\n",
        "plt.gca().invert_yaxis()\n",
        "plt.show()\n",
        "\n",
        "# Step 4: Compare rankings with original Score\n",
        "plt.figure(figsize=(8, 6))\n",
        "plt.scatter(south_asia_df['score'], south_asia_df['Composite Score'], color='purple', alpha=0.7)\n",
        "plt.title(\"Original Score vs Composite Score\")\n",
        "plt.xlabel(\"Original Score\")\n",
        "plt.ylabel(\"Composite Score\")\n",
        "plt.show()\n"
      ],
      "metadata": {
        "id": "w9LqipEj-8UW"
      },
      "execution_count": null,
      "outputs": []
    },
    {
      "cell_type": "markdown",
      "source": [
        "Task 3: Outlier Detection"
      ],
      "metadata": {
        "id": "35ApExRKAH6w"
      }
    },
    {
      "cell_type": "code",
      "source": [
        "# Step 1: Identify outliers based on Score and GDP per Capita using 1.5×IQR rule\n",
        "def find_outliers(series):\n",
        "    Q1 = series.quantile(0.25)\n",
        "    Q3 = series.quantile(0.75)\n",
        "    IQR = Q3 - Q1\n",
        "    lower_bound = Q1 - 1.5 * IQR\n",
        "    upper_bound = Q3 + 1.5 * IQR\n",
        "    return (series < lower_bound) | (series > upper_bound)\n",
        "\n",
        "south_asia_df['Outlier_Score'] = find_outliers(south_asia_df['score'])\n",
        "south_asia_df['Outlier_GDP'] = find_outliers(south_asia_df['Log GDP per capita'])\n",
        "\n",
        "# Step 2: Scatter plot highlighting outliers\n",
        "plt.figure(figsize=(8, 6))\n",
        "plt.scatter(south_asia_df['Log GDP per capita'], south_asia_df['score'], label='Normal Points')\n",
        "plt.scatter(\n",
        "    south_asia_df[south_asia_df['Outlier_Score']]['Log GDP per capita'],\n",
        "    south_asia_df[south_asia_df['Outlier_Score']]['score'], color='red', label='Outlier (Score)'\n",
        ")\n",
        "plt.title(\"GDP per Capita vs Score with Outliers Highlighted\")\n",
        "plt.xlabel(\"Log GDP per Capita\")\n",
        "plt.ylabel(\"Score\")\n",
        "plt.legend()\n",
        "plt.show()\n"
      ],
      "metadata": {
        "id": "RoeyJZ3F_C4a"
      },
      "execution_count": null,
      "outputs": []
    },
    {
      "cell_type": "markdown",
      "source": [
        "Task 4: Exploring Trends Across Metrics"
      ],
      "metadata": {
        "id": "TsDEh_2IAItS"
      }
    },
    {
      "cell_type": "code",
      "source": [
        "# Step 1: Calculate Pearson correlation for two metrics with Score\n",
        "metric_1 = 'Freedom to make life choices'\n",
        "metric_2 = 'Generosity'\n",
        "correlation_1 = south_asia_df[metric_1].corr(south_asia_df['score'])\n",
        "correlation_2 = south_asia_df[metric_2].corr(south_asia_df['score'])\n",
        "\n",
        "print(f\"Correlation between {metric_1} and Score: {correlation_1}\")\n",
        "print(f\"Correlation between {metric_2} and Score: {correlation_2}\")\n",
        "\n",
        "# Step 2: Scatter plots with trendlines\n",
        "import seaborn as sns\n",
        "\n",
        "plt.figure(figsize=(8, 6))\n",
        "sns.regplot(x=metric_1, y='score', data=south_asia_df, color='blue')\n",
        "plt.title(f\"{metric_1} vs Score\")\n",
        "plt.show()\n",
        "\n",
        "plt.figure(figsize=(8, 6))\n",
        "sns.regplot(x=metric_2, y='score', data=south_asia_df, color='green')\n",
        "plt.title(f\"{metric_2} vs Score\")\n",
        "plt.show()\n"
      ],
      "metadata": {
        "id": "gH0oN2sd_ITm"
      },
      "execution_count": null,
      "outputs": []
    },
    {
      "cell_type": "markdown",
      "source": [
        "Task 5: Gap Analysis"
      ],
      "metadata": {
        "id": "TwgH1VyVAKFq"
      }
    },
    {
      "cell_type": "code",
      "source": [
        "# Step 1: Add GDP-Score Gap column\n",
        "south_asia_df['GDP-Score Gap'] = south_asia_df['Log GDP per capita'] - south_asia_df['score']\n",
        "\n",
        "# Step 2: Rank by gap in ascending and descending order\n",
        "ascending_gap = south_asia_df.sort_values(by='GDP-Score Gap').head(3)\n",
        "descending_gap = south_asia_df.sort_values(by='GDP-Score Gap', ascending=False).head(3)\n",
        "\n",
        "# Step 3: Highlight the top 3 countries with largest positive and negative gaps\n",
        "plt.figure(figsize=(10, 6))\n",
        "plt.bar(ascending_gap['Country name'], ascending_gap['GDP-Score Gap'], color='red', label='Negative Gap')\n",
        "plt.bar(descending_gap['Country name'], descending_gap['GDP-Score Gap'], color='green', label='Positive Gap')\n",
        "plt.title(\"Top 3 Countries by GDP-Score Gap\")\n",
        "plt.ylabel(\"GDP-Score Gap\")\n",
        "plt.legend()\n",
        "plt.show()\n"
      ],
      "metadata": {
        "id": "d9NuhwBx_OYJ"
      },
      "execution_count": null,
      "outputs": []
    },
    {
      "cell_type": "markdown",
      "source": [
        "Task 1: Setup Task - Preparing the Middle Eastern Dataset"
      ],
      "metadata": {
        "id": "F2HVRMqDBDQ-"
      }
    },
    {
      "cell_type": "code",
      "source": [
        "# Define the list of Middle Eastern countries\n",
        "middle_east_countries = [\n",
        "    \"Bahrain\", \"Iran\", \"Iraq\", \"Israel\", \"Jordan\", \"Kuwait\", \"Lebanon\",\n",
        "    \"Oman\", \"Palestine\", \"Qatar\", \"Saudi Arabia\", \"Syria\",\n",
        "    \"United Arab Emirates\", \"Yemen\"\n",
        "]\n",
        "\n",
        "# Filter the dataset for Middle Eastern countries\n",
        "middle_east_df = data[data['Country name'].isin(middle_east_countries)]\n",
        "\n",
        "# Save the filtered dataset as a CSV file\n",
        "middle_east_df.to_csv('Middle_East_Dataset.csv', index=False)\n",
        "print(\"Middle East dataset saved as 'Middle_East_Dataset.csv'\")\n"
      ],
      "metadata": {
        "id": "Ofh14JBvBJg9"
      },
      "execution_count": null,
      "outputs": []
    },
    {
      "cell_type": "markdown",
      "source": [
        "1. Descriptive Statistics"
      ],
      "metadata": {
        "id": "KW3oV3YdBM13"
      }
    },
    {
      "cell_type": "code",
      "source": [
        "# Calculate mean and standard deviation for both regions\n",
        "south_asia_stats = {\n",
        "    'mean': south_asia_df['score'].mean(),\n",
        "    'std_dev': south_asia_df['score'].std()\n",
        "}\n",
        "middle_east_stats = {\n",
        "    'mean': middle_east_df['score'].mean(),\n",
        "    'std_dev': middle_east_df['score'].std()\n",
        "}\n",
        "\n",
        "print(f\"South Asia - Mean: {south_asia_stats['mean']}, Std Dev: {south_asia_stats['std_dev']}\")\n",
        "print(f\"Middle East - Mean: {middle_east_stats['mean']}, Std Dev: {middle_east_stats['std_dev']}\")\n",
        "\n",
        "# Determine which region has higher happiness scores on average\n",
        "higher_region = \"South Asia\" if south_asia_stats['mean'] > middle_east_stats['mean'] else \"Middle East\"\n",
        "print(f\"The region with higher average happiness scores is: {higher_region}\")\n"
      ],
      "metadata": {
        "id": "eubkxoluBSEU"
      },
      "execution_count": null,
      "outputs": []
    },
    {
      "cell_type": "markdown",
      "source": [
        "2. Top and Bottom Performers"
      ],
      "metadata": {
        "id": "k2YojsraBkWY"
      }
    },
    {
      "cell_type": "code",
      "source": [
        "# Identify top 3 and bottom 3 countries in each region\n",
        "south_asia_top3 = south_asia_df.nlargest(3, 'score')\n",
        "south_asia_bottom3 = south_asia_df.nsmallest(3, 'score')\n",
        "middle_east_top3 = middle_east_df.nlargest(3, 'score')\n",
        "middle_east_bottom3 = middle_east_df.nsmallest(3, 'score')\n",
        "\n",
        "# Plot bar charts for top and bottom performers\n",
        "import matplotlib.pyplot as plt\n",
        "\n",
        "# South Asia\n",
        "plt.figure(figsize=(10, 6))\n",
        "plt.bar(south_asia_top3['Country name'], south_asia_top3['score'], color='green', label='Top 3')\n",
        "plt.bar(south_asia_bottom3['Country name'], south_asia_bottom3['score'], color='red', label='Bottom 3')\n",
        "plt.title(\"Top and Bottom Performers in South Asia\")\n",
        "plt.ylabel(\"Happiness Score\")\n",
        "plt.legend()\n",
        "plt.show()\n",
        "\n",
        "# Middle East\n",
        "plt.figure(figsize=(10, 6))\n",
        "plt.bar(middle_east_top3['Country name'], middle_east_top3['score'], color='blue', label='Top 3')\n",
        "plt.bar(middle_east_bottom3['Country name'], middle_east_bottom3['score'], color='orange', label='Bottom 3')\n",
        "plt.title(\"Top and Bottom Performers in the Middle East\")\n",
        "plt.ylabel(\"Happiness Score\")\n",
        "plt.legend()\n",
        "plt.show()\n"
      ],
      "metadata": {
        "id": "KDVsoer7BVs3"
      },
      "execution_count": null,
      "outputs": []
    },
    {
      "cell_type": "markdown",
      "source": [
        "3. Metric Comparisons"
      ],
      "metadata": {
        "id": "drbvRpVnBoi7"
      }
    },
    {
      "cell_type": "code",
      "source": [
        "# Compare metrics: GDP per Capita, Social Support, Healthy Life Expectancy\n",
        "metrics = ['Log GDP per capita', 'Social support', 'Healthy life expectancy']\n",
        "\n",
        "# Calculate mean of each metric for both regions\n",
        "metric_comparison = pd.DataFrame({\n",
        "    'South Asia': south_asia_df[metrics].mean(),\n",
        "    'Middle East': middle_east_df[metrics].mean()\n",
        "})\n",
        "\n",
        "# Plot grouped bar charts\n",
        "metric_comparison.plot(kind='bar', figsize=(10, 6))\n",
        "plt.title(\"Comparison of Key Metrics Between South Asia and Middle East\")\n",
        "plt.ylabel(\"Mean Values\")\n",
        "plt.xticks(rotation=0)\n",
        "plt.show()\n"
      ],
      "metadata": {
        "id": "tTa3xqGrB6Rg"
      },
      "execution_count": null,
      "outputs": []
    },
    {
      "cell_type": "markdown",
      "source": [
        "4. Happiness Disparity"
      ],
      "metadata": {
        "id": "REFTzi8XB9Zv"
      }
    },
    {
      "cell_type": "code",
      "source": [
        "# Compute range and coefficient of variation (CV)\n",
        "def compute_range_and_cv(df, column):\n",
        "    range_val = df[column].max() - df[column].min()\n",
        "    cv = df[column].std() / df[column].mean()\n",
        "    return range_val, cv\n",
        "\n",
        "south_asia_range, south_asia_cv = compute_range_and_cv(south_asia_df, 'score')\n",
        "middle_east_range, middle_east_cv = compute_range_and_cv(middle_east_df, 'score')\n",
        "\n",
        "print(f\"South Asia - Range: {south_asia_range}, CV: {south_asia_cv}\")\n",
        "print(f\"Middle East - Range: {middle_east_range}, CV: {middle_east_cv}\")\n",
        "\n",
        "greater_variability = \"South Asia\" if south_asia_cv > middle_east_cv else \"Middle East\"\n",
        "print(f\"The region with greater variability in happiness is: {greater_variability}\")\n"
      ],
      "metadata": {
        "id": "IkJb2jhbCBOw"
      },
      "execution_count": null,
      "outputs": []
    },
    {
      "cell_type": "markdown",
      "source": [
        "5. Correlation Analysis"
      ],
      "metadata": {
        "id": "n4p5Xm88CEUF"
      }
    },
    {
      "cell_type": "code",
      "source": [
        "# Calculate correlations\n",
        "metrics = ['Freedom to make life choices', 'Generosity']\n",
        "\n",
        "south_asia_corr = south_asia_df[metrics + ['score']].corr()['score']\n",
        "middle_east_corr = middle_east_df[metrics + ['score']].corr()['score']\n",
        "\n",
        "print(\"South Asia Correlations:\")\n",
        "print(south_asia_corr)\n",
        "\n",
        "print(\"Middle East Correlations:\")\n",
        "print(middle_east_corr)\n",
        "\n",
        "# Scatter plots with trendlines\n",
        "import seaborn as sns\n",
        "\n",
        "for metric in metrics:\n",
        "    plt.figure(figsize=(8, 6))\n",
        "    sns.regplot(x=metric, y='score', data=south_asia_df, label='South Asia', color='green')\n",
        "    sns.regplot(x=metric, y='score', data=middle_east_df, label='Middle East', color='blue')\n",
        "    plt.title(f\"Score vs {metric}\")\n",
        "    plt.legend()\n",
        "    plt.show()\n"
      ],
      "metadata": {
        "id": "oO20j3ZjCQmk"
      },
      "execution_count": null,
      "outputs": []
    },
    {
      "cell_type": "markdown",
      "source": [
        "6. Outlier Detection"
      ],
      "metadata": {
        "id": "_D3V_2dtCTw5"
      }
    },
    {
      "cell_type": "code",
      "source": [
        "# Define a function to detect outliers\n",
        "def detect_outliers(df, column):\n",
        "    Q1 = df[column].quantile(0.25)\n",
        "    Q3 = df[column].quantile(0.75)\n",
        "    IQR = Q3 - Q1\n",
        "    lower_bound = Q1 - 1.5 * IQR\n",
        "    upper_bound = Q3 + 1.5 * IQR\n",
        "    return df[(df[column] < lower_bound) | (df[column] > upper_bound)]\n",
        "\n",
        "# Detect outliers\n",
        "south_asia_outliers = detect_outliers(south_asia_df, 'score')\n",
        "middle_east_outliers = detect_outliers(middle_east_df, 'score')\n",
        "\n",
        "print(\"South Asia Outliers:\")\n",
        "print(south_asia_outliers[['Country name', 'score']])\n",
        "\n",
        "print(\"Middle East Outliers:\")\n",
        "print(middle_east_outliers[['Country name', 'score']])\n"
      ],
      "metadata": {
        "id": "lzoeDI1pCYJL"
      },
      "execution_count": null,
      "outputs": []
    },
    {
      "cell_type": "markdown",
      "source": [
        "7. Visualization: Boxplots"
      ],
      "metadata": {
        "id": "00zFe_KrCfzj"
      }
    },
    {
      "cell_type": "code",
      "source": [
        "# Create boxplots for the distribution of scores\n",
        "plt.figure(figsize=(8, 6))\n",
        "sns.boxplot(data=[south_asia_df['score'], middle_east_df['score']], palette='pastel')\n",
        "plt.xticks([0, 1], ['South Asia', 'Middle East'])\n",
        "plt.title(\"Distribution of Happiness Scores Between Regions\")\n",
        "plt.ylabel(\"Score\")\n",
        "plt.show()\n"
      ],
      "metadata": {
        "id": "LqTZD7obCg_e"
      },
      "execution_count": null,
      "outputs": []
    }
  ]
}